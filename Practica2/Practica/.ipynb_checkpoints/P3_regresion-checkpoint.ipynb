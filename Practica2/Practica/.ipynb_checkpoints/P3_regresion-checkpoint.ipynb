{
 "cells": [
  {
   "cell_type": "markdown",
   "metadata": {},
   "source": [
    "# Práctica 2: Aprendizaje automático\n",
    "\n",
    "__Fecha de entrega: 16 de mayo de 2021__\n",
    "\n",
    "El objetivo de esta práctica es aplicar los distintos algoritmos de aprendizaje automático disponibles en la scikit-learn [sklearn](https://scikit-learn.org/stable/) sobre varios conjuntos de datos y aprender a interpretar los resultados obtenidos. La práctica consta de 3 notebooks que se entregarán simultáneamente en la tarea de entrega habilitada en el Campus  Virtual.\n",
    "\n",
    "Lo más importante en esta práctica no es el código Python, sino el análisis de los datos y modelos que construyas y las explicaciones razonadas de cada una de las decisiones que tomes. __No se valorarán trozos de código o gráficas sin ningún tipo de contexto o explicación__.\n",
    "\n",
    "Finalmente, recuerda establecer el parámetro `random_state` en todas las funciones que tomen decisiones aleatorias para que los resultados sean reproducibles (los resultados no varíen entre ejecuciones)."
   ]
  },
  {
   "cell_type": "markdown",
   "metadata": {},
   "source": [
    "# Parte 3: Regresión"
   ]
  },
  {
   "cell_type": "markdown",
   "metadata": {},
   "source": [
    "__Número de grupo: 18__\n",
    "\n",
    "__Nombres de los estudiantes: Hong Xiang Chen, Adrián Turiel Charro y Andrés Teruel Fernández__"
   ]
  },
  {
   "cell_type": "markdown",
   "metadata": {},
   "source": [
    "En este notebook trabajaremos con una colección de datos de alquileres de Airbnb en Amsterdam. El objetivo de este problema es entrenar una red neuronal capaz de predecir el precio del alojamiento a partir de un conjunto de características."
   ]
  },
  {
   "cell_type": "code",
   "execution_count": 1,
   "metadata": {},
   "outputs": [],
   "source": [
    "RANDOM_STATE=333"
   ]
  },
  {
   "cell_type": "code",
   "execution_count": 2,
   "metadata": {},
   "outputs": [],
   "source": [
    "#Librerias\n",
    "import pandas as pd"
   ]
  },
  {
   "cell_type": "markdown",
   "metadata": {},
   "source": [
    "## 1) Descripción de los datos\n",
    "\n",
    "Carga el fichero de datos `airbnb.csv` en un dataframe. Describe el conjunto de datos y trata de interpretar el significado de cada una de las variables. Estudia la distribución de precios."
   ]
  },
  {
   "cell_type": "code",
   "execution_count": 3,
   "metadata": {},
   "outputs": [
    {
     "data": {
      "text/html": [
       "<div>\n",
       "<style scoped>\n",
       "    .dataframe tbody tr th:only-of-type {\n",
       "        vertical-align: middle;\n",
       "    }\n",
       "\n",
       "    .dataframe tbody tr th {\n",
       "        vertical-align: top;\n",
       "    }\n",
       "\n",
       "    .dataframe thead th {\n",
       "        text-align: right;\n",
       "    }\n",
       "</style>\n",
       "<table border=\"1\" class=\"dataframe\">\n",
       "  <thead>\n",
       "    <tr style=\"text-align: right;\">\n",
       "      <th></th>\n",
       "      <th>accommodates</th>\n",
       "      <th>bathrooms</th>\n",
       "      <th>bedrooms</th>\n",
       "      <th>guests_included</th>\n",
       "      <th>host_listings_count</th>\n",
       "      <th>latitude</th>\n",
       "      <th>longitude</th>\n",
       "      <th>minimum_nights</th>\n",
       "      <th>number_of_reviews</th>\n",
       "      <th>distance_centre</th>\n",
       "      <th>instant_bookable</th>\n",
       "      <th>entire_home</th>\n",
       "      <th>private_room</th>\n",
       "      <th>shared_room</th>\n",
       "      <th>price</th>\n",
       "    </tr>\n",
       "  </thead>\n",
       "  <tbody>\n",
       "    <tr>\n",
       "      <th>0</th>\n",
       "      <td>4</td>\n",
       "      <td>2.0</td>\n",
       "      <td>2.0</td>\n",
       "      <td>1</td>\n",
       "      <td>1.0</td>\n",
       "      <td>52.358466</td>\n",
       "      <td>4.933843</td>\n",
       "      <td>2</td>\n",
       "      <td>8</td>\n",
       "      <td>3.279483</td>\n",
       "      <td>0</td>\n",
       "      <td>1</td>\n",
       "      <td>0</td>\n",
       "      <td>0</td>\n",
       "      <td>160.0</td>\n",
       "    </tr>\n",
       "    <tr>\n",
       "      <th>1</th>\n",
       "      <td>4</td>\n",
       "      <td>1.0</td>\n",
       "      <td>2.0</td>\n",
       "      <td>2</td>\n",
       "      <td>1.0</td>\n",
       "      <td>52.363589</td>\n",
       "      <td>4.983353</td>\n",
       "      <td>3</td>\n",
       "      <td>0</td>\n",
       "      <td>5.951843</td>\n",
       "      <td>0</td>\n",
       "      <td>1</td>\n",
       "      <td>0</td>\n",
       "      <td>0</td>\n",
       "      <td>120.0</td>\n",
       "    </tr>\n",
       "    <tr>\n",
       "      <th>2</th>\n",
       "      <td>2</td>\n",
       "      <td>1.0</td>\n",
       "      <td>1.0</td>\n",
       "      <td>1</td>\n",
       "      <td>1.0</td>\n",
       "      <td>52.375209</td>\n",
       "      <td>4.861647</td>\n",
       "      <td>3</td>\n",
       "      <td>8</td>\n",
       "      <td>2.601055</td>\n",
       "      <td>0</td>\n",
       "      <td>1</td>\n",
       "      <td>0</td>\n",
       "      <td>0</td>\n",
       "      <td>99.0</td>\n",
       "    </tr>\n",
       "    <tr>\n",
       "      <th>3</th>\n",
       "      <td>2</td>\n",
       "      <td>1.0</td>\n",
       "      <td>1.0</td>\n",
       "      <td>1</td>\n",
       "      <td>1.0</td>\n",
       "      <td>52.387382</td>\n",
       "      <td>4.890457</td>\n",
       "      <td>2</td>\n",
       "      <td>41</td>\n",
       "      <td>1.095138</td>\n",
       "      <td>0</td>\n",
       "      <td>0</td>\n",
       "      <td>1</td>\n",
       "      <td>0</td>\n",
       "      <td>100.0</td>\n",
       "    </tr>\n",
       "    <tr>\n",
       "      <th>4</th>\n",
       "      <td>2</td>\n",
       "      <td>1.0</td>\n",
       "      <td>1.0</td>\n",
       "      <td>1</td>\n",
       "      <td>1.0</td>\n",
       "      <td>52.384062</td>\n",
       "      <td>4.889877</td>\n",
       "      <td>3</td>\n",
       "      <td>0</td>\n",
       "      <td>0.844491</td>\n",
       "      <td>0</td>\n",
       "      <td>1</td>\n",
       "      <td>0</td>\n",
       "      <td>0</td>\n",
       "      <td>175.0</td>\n",
       "    </tr>\n",
       "  </tbody>\n",
       "</table>\n",
       "</div>"
      ],
      "text/plain": [
       "   accommodates  bathrooms  bedrooms  guests_included  host_listings_count  \\\n",
       "0             4        2.0       2.0                1                  1.0   \n",
       "1             4        1.0       2.0                2                  1.0   \n",
       "2             2        1.0       1.0                1                  1.0   \n",
       "3             2        1.0       1.0                1                  1.0   \n",
       "4             2        1.0       1.0                1                  1.0   \n",
       "\n",
       "    latitude  longitude  minimum_nights  number_of_reviews  distance_centre  \\\n",
       "0  52.358466   4.933843               2                  8         3.279483   \n",
       "1  52.363589   4.983353               3                  0         5.951843   \n",
       "2  52.375209   4.861647               3                  8         2.601055   \n",
       "3  52.387382   4.890457               2                 41         1.095138   \n",
       "4  52.384062   4.889877               3                  0         0.844491   \n",
       "\n",
       "   instant_bookable  entire_home  private_room  shared_room  price  \n",
       "0                 0            1             0            0  160.0  \n",
       "1                 0            1             0            0  120.0  \n",
       "2                 0            1             0            0   99.0  \n",
       "3                 0            0             1            0  100.0  \n",
       "4                 0            1             0            0  175.0  "
      ]
     },
     "execution_count": 3,
     "metadata": {},
     "output_type": "execute_result"
    }
   ],
   "source": [
    "df = pd.read_csv('airbnb.csv') # Cargamos el conjuntos de datos\n",
    "# df = df.dropna()             # eliminamos los pacientes con datos incompletos  # no lo pide\n",
    "df.head()"
   ]
  },
  {
   "cell_type": "markdown",
   "metadata": {},
   "source": [
    "* Comentarios: Este conjunto de datos representa los alojamientos y sus características, asi como el numero de habitaciones, la latitud, la longitud, sus precios por noche..."
   ]
  },
  {
   "cell_type": "markdown",
   "metadata": {},
   "source": [
    "### Significado de las variables:\n",
    "\n",
    "* accomodates: personas que pueden alojarse en el piso\n",
    "* bathrooms: representa el numero de baños \n",
    "* bedrooms: representa el numero de dormitorios \n",
    "* guest_included: huespedes ajenos que ya viven en el piso\n",
    "* host_listings_count: listado de anfitriones\n",
    "* latitude: el grado de latitud donde se encuentra\n",
    "* longitude: el grado de longitud donde se encuentra\n",
    "* minimum_nights: mínimo número de noches que debes alojarte en el airbnb\n",
    "* number_of_reviews: números de reseñas\n",
    "* distance_centre: la distancia desde el alojamiento al centro\n",
    "* instant_bookable: si puedes reservar en el momento o no\n",
    "* entire_home: alojamiento de toda la casa\n",
    "* private_room: variable que dice si tiene habitaciones privadas o no (0 o 1)\n",
    "* shared_room: variable que dice si tiene habitaciones compartidas o no (0 o 1)\n",
    "* price: el precio por noche"
   ]
  },
  {
   "cell_type": "code",
   "execution_count": 4,
   "metadata": {},
   "outputs": [
    {
     "data": {
      "text/html": [
       "<div>\n",
       "<style scoped>\n",
       "    .dataframe tbody tr th:only-of-type {\n",
       "        vertical-align: middle;\n",
       "    }\n",
       "\n",
       "    .dataframe tbody tr th {\n",
       "        vertical-align: top;\n",
       "    }\n",
       "\n",
       "    .dataframe thead th {\n",
       "        text-align: right;\n",
       "    }\n",
       "</style>\n",
       "<table border=\"1\" class=\"dataframe\">\n",
       "  <thead>\n",
       "    <tr style=\"text-align: right;\">\n",
       "      <th></th>\n",
       "      <th>accommodates</th>\n",
       "      <th>bathrooms</th>\n",
       "      <th>bedrooms</th>\n",
       "      <th>guests_included</th>\n",
       "      <th>host_listings_count</th>\n",
       "      <th>latitude</th>\n",
       "      <th>longitude</th>\n",
       "      <th>minimum_nights</th>\n",
       "      <th>number_of_reviews</th>\n",
       "      <th>distance_centre</th>\n",
       "      <th>instant_bookable</th>\n",
       "      <th>entire_home</th>\n",
       "      <th>private_room</th>\n",
       "      <th>shared_room</th>\n",
       "      <th>price</th>\n",
       "    </tr>\n",
       "  </thead>\n",
       "  <tbody>\n",
       "    <tr>\n",
       "      <th>count</th>\n",
       "      <td>14998.000000</td>\n",
       "      <td>14998.000000</td>\n",
       "      <td>14998.000000</td>\n",
       "      <td>14998.000000</td>\n",
       "      <td>14998.000000</td>\n",
       "      <td>14998.000000</td>\n",
       "      <td>14998.000000</td>\n",
       "      <td>14998.000000</td>\n",
       "      <td>14998.000000</td>\n",
       "      <td>14998.000000</td>\n",
       "      <td>14998.000000</td>\n",
       "      <td>14998.000000</td>\n",
       "      <td>14998.000000</td>\n",
       "      <td>14998.000000</td>\n",
       "      <td>14998.000000</td>\n",
       "    </tr>\n",
       "    <tr>\n",
       "      <th>mean</th>\n",
       "      <td>2.880317</td>\n",
       "      <td>1.116215</td>\n",
       "      <td>1.390919</td>\n",
       "      <td>1.499333</td>\n",
       "      <td>3.372316</td>\n",
       "      <td>52.365312</td>\n",
       "      <td>4.889033</td>\n",
       "      <td>2.885051</td>\n",
       "      <td>17.797440</td>\n",
       "      <td>2.998582</td>\n",
       "      <td>0.155954</td>\n",
       "      <td>0.777170</td>\n",
       "      <td>0.218562</td>\n",
       "      <td>0.004267</td>\n",
       "      <td>130.050273</td>\n",
       "    </tr>\n",
       "    <tr>\n",
       "      <th>std</th>\n",
       "      <td>1.298492</td>\n",
       "      <td>0.343442</td>\n",
       "      <td>0.839649</td>\n",
       "      <td>0.940643</td>\n",
       "      <td>11.203593</td>\n",
       "      <td>0.015765</td>\n",
       "      <td>0.035010</td>\n",
       "      <td>7.252271</td>\n",
       "      <td>34.766613</td>\n",
       "      <td>1.610995</td>\n",
       "      <td>0.362824</td>\n",
       "      <td>0.416159</td>\n",
       "      <td>0.413285</td>\n",
       "      <td>0.065187</td>\n",
       "      <td>63.820328</td>\n",
       "    </tr>\n",
       "    <tr>\n",
       "      <th>min</th>\n",
       "      <td>1.000000</td>\n",
       "      <td>0.000000</td>\n",
       "      <td>0.000000</td>\n",
       "      <td>1.000000</td>\n",
       "      <td>0.000000</td>\n",
       "      <td>52.290308</td>\n",
       "      <td>4.753513</td>\n",
       "      <td>1.000000</td>\n",
       "      <td>0.000000</td>\n",
       "      <td>0.115801</td>\n",
       "      <td>0.000000</td>\n",
       "      <td>0.000000</td>\n",
       "      <td>0.000000</td>\n",
       "      <td>0.000000</td>\n",
       "      <td>19.000000</td>\n",
       "    </tr>\n",
       "    <tr>\n",
       "      <th>25%</th>\n",
       "      <td>2.000000</td>\n",
       "      <td>1.000000</td>\n",
       "      <td>1.000000</td>\n",
       "      <td>1.000000</td>\n",
       "      <td>1.000000</td>\n",
       "      <td>52.355582</td>\n",
       "      <td>4.864839</td>\n",
       "      <td>2.000000</td>\n",
       "      <td>2.000000</td>\n",
       "      <td>1.948924</td>\n",
       "      <td>0.000000</td>\n",
       "      <td>1.000000</td>\n",
       "      <td>0.000000</td>\n",
       "      <td>0.000000</td>\n",
       "      <td>89.000000</td>\n",
       "    </tr>\n",
       "    <tr>\n",
       "      <th>50%</th>\n",
       "      <td>2.000000</td>\n",
       "      <td>1.000000</td>\n",
       "      <td>1.000000</td>\n",
       "      <td>1.000000</td>\n",
       "      <td>1.000000</td>\n",
       "      <td>52.364960</td>\n",
       "      <td>4.886370</td>\n",
       "      <td>2.000000</td>\n",
       "      <td>7.000000</td>\n",
       "      <td>2.841338</td>\n",
       "      <td>0.000000</td>\n",
       "      <td>1.000000</td>\n",
       "      <td>0.000000</td>\n",
       "      <td>0.000000</td>\n",
       "      <td>115.000000</td>\n",
       "    </tr>\n",
       "    <tr>\n",
       "      <th>75%</th>\n",
       "      <td>4.000000</td>\n",
       "      <td>1.000000</td>\n",
       "      <td>2.000000</td>\n",
       "      <td>2.000000</td>\n",
       "      <td>1.000000</td>\n",
       "      <td>52.374805</td>\n",
       "      <td>4.907953</td>\n",
       "      <td>3.000000</td>\n",
       "      <td>18.000000</td>\n",
       "      <td>3.577086</td>\n",
       "      <td>0.000000</td>\n",
       "      <td>1.000000</td>\n",
       "      <td>0.000000</td>\n",
       "      <td>0.000000</td>\n",
       "      <td>150.000000</td>\n",
       "    </tr>\n",
       "    <tr>\n",
       "      <th>max</th>\n",
       "      <td>17.000000</td>\n",
       "      <td>8.000000</td>\n",
       "      <td>10.000000</td>\n",
       "      <td>16.000000</td>\n",
       "      <td>106.000000</td>\n",
       "      <td>52.426224</td>\n",
       "      <td>5.027689</td>\n",
       "      <td>523.000000</td>\n",
       "      <td>496.000000</td>\n",
       "      <td>11.842162</td>\n",
       "      <td>1.000000</td>\n",
       "      <td>1.000000</td>\n",
       "      <td>1.000000</td>\n",
       "      <td>1.000000</td>\n",
       "      <td>440.000000</td>\n",
       "    </tr>\n",
       "  </tbody>\n",
       "</table>\n",
       "</div>"
      ],
      "text/plain": [
       "       accommodates     bathrooms      bedrooms  guests_included  \\\n",
       "count  14998.000000  14998.000000  14998.000000     14998.000000   \n",
       "mean       2.880317      1.116215      1.390919         1.499333   \n",
       "std        1.298492      0.343442      0.839649         0.940643   \n",
       "min        1.000000      0.000000      0.000000         1.000000   \n",
       "25%        2.000000      1.000000      1.000000         1.000000   \n",
       "50%        2.000000      1.000000      1.000000         1.000000   \n",
       "75%        4.000000      1.000000      2.000000         2.000000   \n",
       "max       17.000000      8.000000     10.000000        16.000000   \n",
       "\n",
       "       host_listings_count      latitude     longitude  minimum_nights  \\\n",
       "count         14998.000000  14998.000000  14998.000000    14998.000000   \n",
       "mean              3.372316     52.365312      4.889033        2.885051   \n",
       "std              11.203593      0.015765      0.035010        7.252271   \n",
       "min               0.000000     52.290308      4.753513        1.000000   \n",
       "25%               1.000000     52.355582      4.864839        2.000000   \n",
       "50%               1.000000     52.364960      4.886370        2.000000   \n",
       "75%               1.000000     52.374805      4.907953        3.000000   \n",
       "max             106.000000     52.426224      5.027689      523.000000   \n",
       "\n",
       "       number_of_reviews  distance_centre  instant_bookable   entire_home  \\\n",
       "count       14998.000000     14998.000000      14998.000000  14998.000000   \n",
       "mean           17.797440         2.998582          0.155954      0.777170   \n",
       "std            34.766613         1.610995          0.362824      0.416159   \n",
       "min             0.000000         0.115801          0.000000      0.000000   \n",
       "25%             2.000000         1.948924          0.000000      1.000000   \n",
       "50%             7.000000         2.841338          0.000000      1.000000   \n",
       "75%            18.000000         3.577086          0.000000      1.000000   \n",
       "max           496.000000        11.842162          1.000000      1.000000   \n",
       "\n",
       "       private_room   shared_room         price  \n",
       "count  14998.000000  14998.000000  14998.000000  \n",
       "mean       0.218562      0.004267    130.050273  \n",
       "std        0.413285      0.065187     63.820328  \n",
       "min        0.000000      0.000000     19.000000  \n",
       "25%        0.000000      0.000000     89.000000  \n",
       "50%        0.000000      0.000000    115.000000  \n",
       "75%        0.000000      0.000000    150.000000  \n",
       "max        1.000000      1.000000    440.000000  "
      ]
     },
     "execution_count": 4,
     "metadata": {},
     "output_type": "execute_result"
    }
   ],
   "source": [
    "df.describe()"
   ]
  },
  {
   "cell_type": "code",
   "execution_count": 5,
   "metadata": {},
   "outputs": [
    {
     "data": {
      "text/plain": [
       "<matplotlib.axes._subplots.AxesSubplot at 0x1b4a2bef490>"
      ]
     },
     "execution_count": 5,
     "metadata": {},
     "output_type": "execute_result"
    },
    {
     "data": {
      "image/png": "[encoded data removed]",
      "text/plain": [
       "<Figure size 432x288 with 1 Axes>"
      ]
     },
     "metadata": {
      "needs_background": "light"
     },
     "output_type": "display_data"
    }
   ],
   "source": [
    "# Distribución de precios\n",
    "df.price.hist()"
   ]
  },
  {
   "cell_type": "markdown",
   "metadata": {},
   "source": [
    "* Comentario: como es de esperar todas los precios del alojamiento tienen un valor superior a 0. La media se concentra en los 130 dolares, siendo los más solicitados los alojamientos entre 90 y 100 dolares. A partir de los 250 dolares hay pocas ofertas de alojamiento debido a sus altos precio."
   ]
  },
  {
   "cell_type": "markdown",
   "metadata": {},
   "source": [
    "## 2) Selección de variables\n",
    "\n",
    "Calcula los coeficientes de correlación de Pearson entre la variable de salida y el resto de variables. Crea un nuevo dataframe que contenga el precio y, además, las variables que estén relacionadas con él por un valor de correlacción de al menos 0.2 (de forma directa o inversa)."
   ]
  },
  {
   "cell_type": "code",
   "execution_count": 6,
   "metadata": {},
   "outputs": [
    {
     "data": {
      "text/plain": [
       "accommodates       0.552183\n",
       "bathrooms          0.283759\n",
       "bedrooms           0.517237\n",
       "guests_included    0.338739\n",
       "distance_centre   -0.204698\n",
       "entire_home        0.361313\n",
       "private_room      -0.357184\n",
       "price              1.000000\n",
       "Name: price, dtype: float64"
      ]
     },
     "execution_count": 6,
     "metadata": {},
     "output_type": "execute_result"
    }
   ],
   "source": [
    "correl = df.corr(method='pearson')\n",
    "correl = correl[abs(correl['price']) >= 0.2]['price']\n",
    "correl"
   ]
  },
  {
   "cell_type": "markdown",
   "metadata": {},
   "source": [
    "* Comentario: empezamos calculano el coeficiente de correlación de Pearson entre todas la varibles, y despues seleccionamos solo la columna de price, la que nos interesa, y concretamente mostramos auqllas cuyo valor es como minimo 0.2 en valor aboluto."
   ]
  },
  {
   "cell_type": "code",
   "execution_count": 7,
   "metadata": {},
   "outputs": [
    {
     "data": {
      "text/html": [
       "<div>\n",
       "<style scoped>\n",
       "    .dataframe tbody tr th:only-of-type {\n",
       "        vertical-align: middle;\n",
       "    }\n",
       "\n",
       "    .dataframe tbody tr th {\n",
       "        vertical-align: top;\n",
       "    }\n",
       "\n",
       "    .dataframe thead th {\n",
       "        text-align: right;\n",
       "    }\n",
       "</style>\n",
       "<table border=\"1\" class=\"dataframe\">\n",
       "  <thead>\n",
       "    <tr style=\"text-align: right;\">\n",
       "      <th></th>\n",
       "      <th>accommodates</th>\n",
       "      <th>bathrooms</th>\n",
       "      <th>bedrooms</th>\n",
       "      <th>guests_included</th>\n",
       "      <th>distance_centre</th>\n",
       "      <th>entire_home</th>\n",
       "      <th>private_room</th>\n",
       "      <th>price</th>\n",
       "    </tr>\n",
       "  </thead>\n",
       "  <tbody>\n",
       "    <tr>\n",
       "      <th>0</th>\n",
       "      <td>4</td>\n",
       "      <td>2.0</td>\n",
       "      <td>2.0</td>\n",
       "      <td>1</td>\n",
       "      <td>3.279483</td>\n",
       "      <td>1</td>\n",
       "      <td>0</td>\n",
       "      <td>160.0</td>\n",
       "    </tr>\n",
       "    <tr>\n",
       "      <th>1</th>\n",
       "      <td>4</td>\n",
       "      <td>1.0</td>\n",
       "      <td>2.0</td>\n",
       "      <td>2</td>\n",
       "      <td>5.951843</td>\n",
       "      <td>1</td>\n",
       "      <td>0</td>\n",
       "      <td>120.0</td>\n",
       "    </tr>\n",
       "    <tr>\n",
       "      <th>2</th>\n",
       "      <td>2</td>\n",
       "      <td>1.0</td>\n",
       "      <td>1.0</td>\n",
       "      <td>1</td>\n",
       "      <td>2.601055</td>\n",
       "      <td>1</td>\n",
       "      <td>0</td>\n",
       "      <td>99.0</td>\n",
       "    </tr>\n",
       "    <tr>\n",
       "      <th>3</th>\n",
       "      <td>2</td>\n",
       "      <td>1.0</td>\n",
       "      <td>1.0</td>\n",
       "      <td>1</td>\n",
       "      <td>1.095138</td>\n",
       "      <td>0</td>\n",
       "      <td>1</td>\n",
       "      <td>100.0</td>\n",
       "    </tr>\n",
       "    <tr>\n",
       "      <th>4</th>\n",
       "      <td>2</td>\n",
       "      <td>1.0</td>\n",
       "      <td>1.0</td>\n",
       "      <td>1</td>\n",
       "      <td>0.844491</td>\n",
       "      <td>1</td>\n",
       "      <td>0</td>\n",
       "      <td>175.0</td>\n",
       "    </tr>\n",
       "    <tr>\n",
       "      <th>...</th>\n",
       "      <td>...</td>\n",
       "      <td>...</td>\n",
       "      <td>...</td>\n",
       "      <td>...</td>\n",
       "      <td>...</td>\n",
       "      <td>...</td>\n",
       "      <td>...</td>\n",
       "      <td>...</td>\n",
       "    </tr>\n",
       "    <tr>\n",
       "      <th>14993</th>\n",
       "      <td>2</td>\n",
       "      <td>1.0</td>\n",
       "      <td>1.0</td>\n",
       "      <td>1</td>\n",
       "      <td>1.815773</td>\n",
       "      <td>1</td>\n",
       "      <td>0</td>\n",
       "      <td>140.0</td>\n",
       "    </tr>\n",
       "    <tr>\n",
       "      <th>14994</th>\n",
       "      <td>4</td>\n",
       "      <td>1.0</td>\n",
       "      <td>2.0</td>\n",
       "      <td>1</td>\n",
       "      <td>5.687407</td>\n",
       "      <td>1</td>\n",
       "      <td>0</td>\n",
       "      <td>120.0</td>\n",
       "    </tr>\n",
       "    <tr>\n",
       "      <th>14995</th>\n",
       "      <td>2</td>\n",
       "      <td>1.0</td>\n",
       "      <td>1.0</td>\n",
       "      <td>1</td>\n",
       "      <td>1.620395</td>\n",
       "      <td>1</td>\n",
       "      <td>0</td>\n",
       "      <td>120.0</td>\n",
       "    </tr>\n",
       "    <tr>\n",
       "      <th>14996</th>\n",
       "      <td>3</td>\n",
       "      <td>1.0</td>\n",
       "      <td>1.0</td>\n",
       "      <td>1</td>\n",
       "      <td>1.777881</td>\n",
       "      <td>1</td>\n",
       "      <td>0</td>\n",
       "      <td>95.0</td>\n",
       "    </tr>\n",
       "    <tr>\n",
       "      <th>14997</th>\n",
       "      <td>2</td>\n",
       "      <td>1.0</td>\n",
       "      <td>1.0</td>\n",
       "      <td>1</td>\n",
       "      <td>2.619788</td>\n",
       "      <td>1</td>\n",
       "      <td>0</td>\n",
       "      <td>120.0</td>\n",
       "    </tr>\n",
       "  </tbody>\n",
       "</table>\n",
       "<p>14998 rows × 8 columns</p>\n",
       "</div>"
      ],
      "text/plain": [
       "       accommodates  bathrooms  bedrooms  guests_included  distance_centre  \\\n",
       "0                 4        2.0       2.0                1         3.279483   \n",
       "1                 4        1.0       2.0                2         5.951843   \n",
       "2                 2        1.0       1.0                1         2.601055   \n",
       "3                 2        1.0       1.0                1         1.095138   \n",
       "4                 2        1.0       1.0                1         0.844491   \n",
       "...             ...        ...       ...              ...              ...   \n",
       "14993             2        1.0       1.0                1         1.815773   \n",
       "14994             4        1.0       2.0                1         5.687407   \n",
       "14995             2        1.0       1.0                1         1.620395   \n",
       "14996             3        1.0       1.0                1         1.777881   \n",
       "14997             2        1.0       1.0                1         2.619788   \n",
       "\n",
       "       entire_home  private_room  price  \n",
       "0                1             0  160.0  \n",
       "1                1             0  120.0  \n",
       "2                1             0   99.0  \n",
       "3                0             1  100.0  \n",
       "4                1             0  175.0  \n",
       "...            ...           ...    ...  \n",
       "14993            1             0  140.0  \n",
       "14994            1             0  120.0  \n",
       "14995            1             0  120.0  \n",
       "14996            1             0   95.0  \n",
       "14997            1             0  120.0  \n",
       "\n",
       "[14998 rows x 8 columns]"
      ]
     },
     "execution_count": 7,
     "metadata": {},
     "output_type": "execute_result"
    }
   ],
   "source": [
    "data = df[['accommodates', 'bathrooms', 'bedrooms','guests_included',\n",
    "           'distance_centre','entire_home','private_room','price']].copy() \n",
    "data"
   ]
  },
  {
   "cell_type": "markdown",
   "metadata": {},
   "source": [
    "* Comentario: creamos el dataframe con el nombre de las columnas obtenidas anteriormente"
   ]
  },
  {
   "cell_type": "markdown",
   "metadata": {},
   "source": [
    "## 3) Normalización\n",
    "\n",
    "Decide si debes o no normalizar los datos. En caso afirmativo elige razonadamente entre escalarlos o estandarizarlos.\n",
    "\n",
    "Si decides escalar los datos deberás crear dos `scalers` distintos, uno para el array con la descripción de los pisos y otro para el array con el precio. Lo hacemos de este modo porque así podremos desescalar las predicciones más fácilmente."
   ]
  },
  {
   "cell_type": "markdown",
   "metadata": {},
   "source": [
    "* Comentario: Cuando trabajamos con redes neuronales no hace falta reescalar los datos, ya que las redes neuronales funcionan bien con los datos originales. Pero estaría bien reescalarlos porque nos facilita en el entrenamiento a converjer  más rápidamente."
   ]
  },
  {
   "cell_type": "code",
   "execution_count": 8,
   "metadata": {},
   "outputs": [],
   "source": [
    "# array que contiene sólo los datos de entrenamiento\n",
    "desPisos = data.copy()\n",
    "desPisos = data.drop(['price'], axis=1)\n",
    "#print(dataX)\n",
    "\n",
    "# array que contiene sólo las variables de salida\n",
    "target = pd.DataFrame()\n",
    "target['price'] = data['price'].copy()\n",
    "#print(dataY)"
   ]
  },
  {
   "cell_type": "code",
   "execution_count": 9,
   "metadata": {},
   "outputs": [
    {
     "data": {
      "text/html": [
       "<div>\n",
       "<style scoped>\n",
       "    .dataframe tbody tr th:only-of-type {\n",
       "        vertical-align: middle;\n",
       "    }\n",
       "\n",
       "    .dataframe tbody tr th {\n",
       "        vertical-align: top;\n",
       "    }\n",
       "\n",
       "    .dataframe thead th {\n",
       "        text-align: right;\n",
       "    }\n",
       "</style>\n",
       "<table border=\"1\" class=\"dataframe\">\n",
       "  <thead>\n",
       "    <tr style=\"text-align: right;\">\n",
       "      <th></th>\n",
       "      <th>price</th>\n",
       "    </tr>\n",
       "  </thead>\n",
       "  <tbody>\n",
       "    <tr>\n",
       "      <th>0</th>\n",
       "      <td>160.0</td>\n",
       "    </tr>\n",
       "    <tr>\n",
       "      <th>1</th>\n",
       "      <td>120.0</td>\n",
       "    </tr>\n",
       "    <tr>\n",
       "      <th>2</th>\n",
       "      <td>99.0</td>\n",
       "    </tr>\n",
       "    <tr>\n",
       "      <th>3</th>\n",
       "      <td>100.0</td>\n",
       "    </tr>\n",
       "    <tr>\n",
       "      <th>4</th>\n",
       "      <td>175.0</td>\n",
       "    </tr>\n",
       "    <tr>\n",
       "      <th>...</th>\n",
       "      <td>...</td>\n",
       "    </tr>\n",
       "    <tr>\n",
       "      <th>14993</th>\n",
       "      <td>140.0</td>\n",
       "    </tr>\n",
       "    <tr>\n",
       "      <th>14994</th>\n",
       "      <td>120.0</td>\n",
       "    </tr>\n",
       "    <tr>\n",
       "      <th>14995</th>\n",
       "      <td>120.0</td>\n",
       "    </tr>\n",
       "    <tr>\n",
       "      <th>14996</th>\n",
       "      <td>95.0</td>\n",
       "    </tr>\n",
       "    <tr>\n",
       "      <th>14997</th>\n",
       "      <td>120.0</td>\n",
       "    </tr>\n",
       "  </tbody>\n",
       "</table>\n",
       "<p>14998 rows × 1 columns</p>\n",
       "</div>"
      ],
      "text/plain": [
       "       price\n",
       "0      160.0\n",
       "1      120.0\n",
       "2       99.0\n",
       "3      100.0\n",
       "4      175.0\n",
       "...      ...\n",
       "14993  140.0\n",
       "14994  120.0\n",
       "14995  120.0\n",
       "14996   95.0\n",
       "14997  120.0\n",
       "\n",
       "[14998 rows x 1 columns]"
      ]
     },
     "execution_count": 9,
     "metadata": {},
     "output_type": "execute_result"
    }
   ],
   "source": [
    "target"
   ]
  },
  {
   "cell_type": "code",
   "execution_count": 10,
   "metadata": {},
   "outputs": [
    {
     "data": {
      "text/html": [
       "<div>\n",
       "<style scoped>\n",
       "    .dataframe tbody tr th:only-of-type {\n",
       "        vertical-align: middle;\n",
       "    }\n",
       "\n",
       "    .dataframe tbody tr th {\n",
       "        vertical-align: top;\n",
       "    }\n",
       "\n",
       "    .dataframe thead th {\n",
       "        text-align: right;\n",
       "    }\n",
       "</style>\n",
       "<table border=\"1\" class=\"dataframe\">\n",
       "  <thead>\n",
       "    <tr style=\"text-align: right;\">\n",
       "      <th></th>\n",
       "      <th>accommodates</th>\n",
       "      <th>bathrooms</th>\n",
       "      <th>bedrooms</th>\n",
       "      <th>guests_included</th>\n",
       "      <th>distance_centre</th>\n",
       "      <th>entire_home</th>\n",
       "      <th>private_room</th>\n",
       "    </tr>\n",
       "  </thead>\n",
       "  <tbody>\n",
       "    <tr>\n",
       "      <th>0</th>\n",
       "      <td>4</td>\n",
       "      <td>2.0</td>\n",
       "      <td>2.0</td>\n",
       "      <td>1</td>\n",
       "      <td>3.279483</td>\n",
       "      <td>1</td>\n",
       "      <td>0</td>\n",
       "    </tr>\n",
       "    <tr>\n",
       "      <th>1</th>\n",
       "      <td>4</td>\n",
       "      <td>1.0</td>\n",
       "      <td>2.0</td>\n",
       "      <td>2</td>\n",
       "      <td>5.951843</td>\n",
       "      <td>1</td>\n",
       "      <td>0</td>\n",
       "    </tr>\n",
       "    <tr>\n",
       "      <th>2</th>\n",
       "      <td>2</td>\n",
       "      <td>1.0</td>\n",
       "      <td>1.0</td>\n",
       "      <td>1</td>\n",
       "      <td>2.601055</td>\n",
       "      <td>1</td>\n",
       "      <td>0</td>\n",
       "    </tr>\n",
       "    <tr>\n",
       "      <th>3</th>\n",
       "      <td>2</td>\n",
       "      <td>1.0</td>\n",
       "      <td>1.0</td>\n",
       "      <td>1</td>\n",
       "      <td>1.095138</td>\n",
       "      <td>0</td>\n",
       "      <td>1</td>\n",
       "    </tr>\n",
       "    <tr>\n",
       "      <th>4</th>\n",
       "      <td>2</td>\n",
       "      <td>1.0</td>\n",
       "      <td>1.0</td>\n",
       "      <td>1</td>\n",
       "      <td>0.844491</td>\n",
       "      <td>1</td>\n",
       "      <td>0</td>\n",
       "    </tr>\n",
       "    <tr>\n",
       "      <th>...</th>\n",
       "      <td>...</td>\n",
       "      <td>...</td>\n",
       "      <td>...</td>\n",
       "      <td>...</td>\n",
       "      <td>...</td>\n",
       "      <td>...</td>\n",
       "      <td>...</td>\n",
       "    </tr>\n",
       "    <tr>\n",
       "      <th>14993</th>\n",
       "      <td>2</td>\n",
       "      <td>1.0</td>\n",
       "      <td>1.0</td>\n",
       "      <td>1</td>\n",
       "      <td>1.815773</td>\n",
       "      <td>1</td>\n",
       "      <td>0</td>\n",
       "    </tr>\n",
       "    <tr>\n",
       "      <th>14994</th>\n",
       "      <td>4</td>\n",
       "      <td>1.0</td>\n",
       "      <td>2.0</td>\n",
       "      <td>1</td>\n",
       "      <td>5.687407</td>\n",
       "      <td>1</td>\n",
       "      <td>0</td>\n",
       "    </tr>\n",
       "    <tr>\n",
       "      <th>14995</th>\n",
       "      <td>2</td>\n",
       "      <td>1.0</td>\n",
       "      <td>1.0</td>\n",
       "      <td>1</td>\n",
       "      <td>1.620395</td>\n",
       "      <td>1</td>\n",
       "      <td>0</td>\n",
       "    </tr>\n",
       "    <tr>\n",
       "      <th>14996</th>\n",
       "      <td>3</td>\n",
       "      <td>1.0</td>\n",
       "      <td>1.0</td>\n",
       "      <td>1</td>\n",
       "      <td>1.777881</td>\n",
       "      <td>1</td>\n",
       "      <td>0</td>\n",
       "    </tr>\n",
       "    <tr>\n",
       "      <th>14997</th>\n",
       "      <td>2</td>\n",
       "      <td>1.0</td>\n",
       "      <td>1.0</td>\n",
       "      <td>1</td>\n",
       "      <td>2.619788</td>\n",
       "      <td>1</td>\n",
       "      <td>0</td>\n",
       "    </tr>\n",
       "  </tbody>\n",
       "</table>\n",
       "<p>14998 rows × 7 columns</p>\n",
       "</div>"
      ],
      "text/plain": [
       "       accommodates  bathrooms  bedrooms  guests_included  distance_centre  \\\n",
       "0                 4        2.0       2.0                1         3.279483   \n",
       "1                 4        1.0       2.0                2         5.951843   \n",
       "2                 2        1.0       1.0                1         2.601055   \n",
       "3                 2        1.0       1.0                1         1.095138   \n",
       "4                 2        1.0       1.0                1         0.844491   \n",
       "...             ...        ...       ...              ...              ...   \n",
       "14993             2        1.0       1.0                1         1.815773   \n",
       "14994             4        1.0       2.0                1         5.687407   \n",
       "14995             2        1.0       1.0                1         1.620395   \n",
       "14996             3        1.0       1.0                1         1.777881   \n",
       "14997             2        1.0       1.0                1         2.619788   \n",
       "\n",
       "       entire_home  private_room  \n",
       "0                1             0  \n",
       "1                1             0  \n",
       "2                1             0  \n",
       "3                0             1  \n",
       "4                1             0  \n",
       "...            ...           ...  \n",
       "14993            1             0  \n",
       "14994            1             0  \n",
       "14995            1             0  \n",
       "14996            1             0  \n",
       "14997            1             0  \n",
       "\n",
       "[14998 rows x 7 columns]"
      ]
     },
     "execution_count": 10,
     "metadata": {},
     "output_type": "execute_result"
    }
   ],
   "source": [
    "desPisos"
   ]
  },
  {
   "cell_type": "code",
   "execution_count": 11,
   "metadata": {},
   "outputs": [],
   "source": [
    "# TODO Tiene pinta de que seria esto, pq es lo que utiliza el profe en el suyo, que es muy parecido PERO RAZONAR XD\n",
    "# Que significan los negativos?\n",
    "\n",
    "from sklearn.preprocessing import StandardScaler\n",
    "\n",
    "# Transformamos las variables de entrada\n",
    "scaler_x = StandardScaler()\n",
    "scaler_x.fit(desPisos)\n",
    "desPisos_scaled=scaler_x.transform(desPisos)\n",
    "\n",
    "# Y también transformamos la variable de salida\n",
    "scaler_y = StandardScaler()\n",
    "scaler_y.fit(target)\n",
    "target_scaled=scaler_y.transform(target)"
   ]
  },
  {
   "cell_type": "code",
   "execution_count": 12,
   "metadata": {},
   "outputs": [],
   "source": [
    "from sklearn.preprocessing import StandardScaler,  MinMaxScaler\n",
    "\n",
    "# Transformamos las variables de entrada\n",
    "scaler_x = MinMaxScaler()\n",
    "scaler_x.fit(desPisos)\n",
    "desPisos_scaled=scaler_x.transform(desPisos)\n",
    "\n",
    "# Y también transformamos la variable de salida\n",
    "scaler_y = MinMaxScaler()\n",
    "scaler_y.fit(target)\n",
    "target_scaled=scaler_y.transform(target)"
   ]
  },
  {
   "cell_type": "code",
   "execution_count": 13,
   "metadata": {},
   "outputs": [
    {
     "data": {
      "text/plain": [
       "array([[0.1875    , 0.25      , 0.2       , ..., 0.26979228, 1.        ,\n",
       "        0.        ],\n",
       "       [0.1875    , 0.125     , 0.2       , ..., 0.49768568, 1.        ,\n",
       "        0.        ],\n",
       "       [0.0625    , 0.125     , 0.1       , ..., 0.2119373 , 1.        ,\n",
       "        0.        ],\n",
       "       ...,\n",
       "       [0.0625    , 0.125     , 0.1       , ..., 0.12830863, 1.        ,\n",
       "        0.        ],\n",
       "       [0.125     , 0.125     , 0.1       , ..., 0.14173871, 1.        ,\n",
       "        0.        ],\n",
       "       [0.0625    , 0.125     , 0.1       , ..., 0.21353482, 1.        ,\n",
       "        0.        ]])"
      ]
     },
     "execution_count": 13,
     "metadata": {},
     "output_type": "execute_result"
    }
   ],
   "source": [
    "desPisos_scaled"
   ]
  },
  {
   "cell_type": "code",
   "execution_count": 14,
   "metadata": {},
   "outputs": [
    {
     "data": {
      "text/plain": [
       "array([[0.33491686],\n",
       "       [0.23990499],\n",
       "       [0.19002375],\n",
       "       ...,\n",
       "       [0.23990499],\n",
       "       [0.18052257],\n",
       "       [0.23990499]])"
      ]
     },
     "execution_count": 14,
     "metadata": {},
     "output_type": "execute_result"
    }
   ],
   "source": [
    "target_scaled"
   ]
  },
  {
   "cell_type": "markdown",
   "metadata": {},
   "source": [
    "## 4) Entrenamiento y selección\n",
    "\n",
    "Crea dos redes neuronales de tipo Perceptrón Multicapa:\n",
    "- La primera con una capa oculta de 200 neuronas\n",
    "- La segunda con dos capas ocultas cada una de 100 neuronas\n",
    "\n",
    "Pinta la curva de aprendizaje para cada red variando el parámetro `alpha` que controla el coeficiente de regularización L2 y determina el valor óptimo usando validación cruzada. Asegúrate de que no salen warnings indicando que no se ha alcanzado la convergencia durante el entrenamiento (basta con poner un número de max_iter suficientemente grande).\n",
    "\n",
    "¿Alguna de las dos redes domina a la otra? ¿Por qué crees que se producen las diferencias?"
   ]
  },
  {
   "cell_type": "code",
   "execution_count": 15,
   "metadata": {},
   "outputs": [],
   "source": [
    "import numpy as np\n",
    "import matplotlib.pyplot as plt\n",
    "from sklearn.metrics import mean_squared_error\n",
    "from sklearn.neural_network import MLPRegressor\n",
    "from sklearn.model_selection import cross_val_score"
   ]
  },
  {
   "cell_type": "code",
   "execution_count": 16,
   "metadata": {},
   "outputs": [
    {
     "name": "stdout",
     "output_type": "stream",
     "text": [
      "holaaaaaaaaaaa\n",
      "holaaaaaaaaaaa\n",
      "holaaaaaaaaaaa\n",
      "holaaaaaaaaaaa\n",
      "holaaaaaaaaaaa\n",
      "holaaaaaaaaaaa\n"
     ]
    },
    {
     "data": {
      "text/plain": [
       "([-0.012678058326870708,\n",
       "  -0.012226656573093376,\n",
       "  -0.01227486731648672,\n",
       "  -0.01225004077782114,\n",
       "  -0.012243364484804887,\n",
       "  -0.012228302978063621],\n",
       " [0.0003966419209094001,\n",
       "  0.00027398866706305716,\n",
       "  0.00020223707355082873,\n",
       "  0.00020722075014518695,\n",
       "  0.0002049348239465782,\n",
       "  0.00021794733926554157],\n",
       " [-0.012723697054611205,\n",
       "  -0.011979667476459645,\n",
       "  -0.011740184971338063,\n",
       "  -0.011704574246138705,\n",
       "  -0.01169437301714911,\n",
       "  -0.01175465244045318],\n",
       " [0.0003885895981672428,\n",
       "  0.0003546605235645444,\n",
       "  0.0004269019094578842,\n",
       "  0.00044308683145133766,\n",
       "  0.00043602684046625774,\n",
       "  0.00045943793468267077])"
      ]
     },
     "execution_count": 16,
     "metadata": {},
     "output_type": "execute_result"
    }
   ],
   "source": [
    "cv_scores_mean=[]\n",
    "cv_scores_std=[]\n",
    "\n",
    "cv_scores_mean2=[]\n",
    "cv_scores_std2=[]\n",
    "\n",
    "# Entrenar y validar distintas configuraciones\n",
    "regul_param_range = 10.0 ** -np.arange(1, 7) # [0.1, 0.01, ..., 0.0000001]\n",
    "for regul_param in regul_param_range:\n",
    "    print(\"holaaaaaaaaaaa\")\n",
    "    # Aumentamos el parámetro max_iter hasta que converja\n",
    "    mlp=MLPRegressor(hidden_layer_sizes=(200, ), activation='relu', solver='adam', alpha=regul_param, batch_size=100, \n",
    "             learning_rate='constant', learning_rate_init=0.001, max_iter=500, random_state=RANDOM_STATE)\n",
    "    \n",
    "    mlp2 = MLPRegressor(hidden_layer_sizes=(100,100 ), activation='relu', solver='adam', alpha=regul_param, batch_size=100, \n",
    "             learning_rate='constant', learning_rate_init=0.001, max_iter=500, random_state=RANDOM_STATE)\n",
    "    \n",
    "    # El error es neg_mean_squared_error el MSE en negativo!! Más pequeño peor.\n",
    "    scores = cross_val_score(mlp, desPisos_scaled, target_scaled.ravel(), cv=5, scoring='neg_mean_squared_error')\n",
    "    scores2 = cross_val_score(mlp2, desPisos_scaled, target_scaled.ravel(), cv=5, scoring='neg_mean_squared_error')\n",
    "    \n",
    "    cv_scores_mean.append(scores.mean())\n",
    "    cv_scores_std.append(scores.std())\n",
    "\n",
    "    cv_scores_mean2.append(scores2.mean())\n",
    "    cv_scores_std2.append(scores2.std())\n",
    "\n",
    "cv_scores_mean, cv_scores_std,cv_scores_mean2, cv_scores_std2"
   ]
  },
  {
   "cell_type": "code",
   "execution_count": 17,
   "metadata": {},
   "outputs": [
    {
     "data": {
      "image/png": "[encoded data removed]",
      "text/plain": [
       "<Figure size 432x288 with 1 Axes>"
      ]
     },
     "metadata": {
      "needs_background": "light"
     },
     "output_type": "display_data"
    }
   ],
   "source": [
    "# Dibujamos la línea de la exactitud media en las partes de test\n",
    "plt.plot(np.log10(regul_param_range), cv_scores_mean, color=\"g\", label=\"Test 1\")\n",
    "plt.plot(np.log10(regul_param_range), cv_scores_mean2, color=\"r\", label=\"Test 2\")\n",
    "\n",
    "# Dibujamos la banda de la desviación típica\n",
    "lower_limit = np.array(cv_scores_mean) - np.array(cv_scores_std)\n",
    "upper_limit = np.array(cv_scores_mean) + np.array(cv_scores_std)\n",
    "plt.fill_between(np.log10(regul_param_range), lower_limit, upper_limit, color=\"#DDDDDD\")\n",
    "\n",
    "# Dibujamos la banda de la desviación típica\n",
    "lower_limit = np.array(cv_scores_mean2) - np.array(cv_scores_std2)\n",
    "upper_limit = np.array(cv_scores_mean2) + np.array(cv_scores_std2)\n",
    "plt.fill_between(np.log10(regul_param_range), lower_limit, upper_limit, color=\"#e6cef1\")\n",
    "\n",
    "# Creamos el gráfico\n",
    "plt.title(\"Curva de aprendizaje\")\n",
    "plt.xlabel(\"Regularización 10^{-X}\"), plt.ylabel(\"negative MSE\"), plt.legend(loc=\"best\")\n",
    "plt.tight_layout()\n",
    "plt.show()"
   ]
  },
  {
   "attachments": {},
   "cell_type": "markdown",
   "metadata": {},
   "source": [
    "* Comentario: Como vemos en la primera curva (Test 1), tiene el comportamiento bastante estable. Por otro lado, en Test 2, aunque es bastante similar, se nota que la influencia del termino de regresion es mayor. Puestos a elegir, el segundo modelo presenta menos error cuadrático medio (MSE) negativo para practicamente todas las variables del conjunto. Y que su mejor valor (el más cercano a cero) es con $\\alpha=10^{-5}$, que es ligeramente superior al resto."
   ]
  },
  {
   "cell_type": "markdown",
   "metadata": {},
   "source": [
    "## 5) Medición del error\n",
    "\n",
    "Elige la mejor configuración del apartado anterior y usa la función `cross_val_predict` para realizar una predicción del valor de todos los establecimientos usando validación cruzada. ¿Cuál es el error medio del modelo en euros? ¿Crees que el modelo es suficientemente bueno?\n",
    "\n",
    "Pinta la distribución del error en euros y el diagrama de dispersión de la predicción frente al valor real. ¿El modelo comete los mismos tipos de errores en establecimientos de distintos precios? ¿Por qué crees que se producen esos errores?"
   ]
  },
  {
   "cell_type": "code",
   "execution_count": 28,
   "metadata": {},
   "outputs": [
    {
     "ename": "AttributeError",
     "evalue": "'numpy.ndarray' object has no attribute 'inverse_transform'",
     "output_type": "error",
     "traceback": [
      "\u001b[1;31m---------------------------------------------------------------------------\u001b[0m",
      "\u001b[1;31mAttributeError\u001b[0m                            Traceback (most recent call last)",
      "\u001b[1;32m<ipython-input-28-40dd40412c56>\u001b[0m in \u001b[0;36m<module>\u001b[1;34m\u001b[0m\n\u001b[0;32m     10\u001b[0m \u001b[1;33m\u001b[0m\u001b[0m\n\u001b[0;32m     11\u001b[0m \u001b[1;31m# desescalamos las predicciones para que estén en la escala original\u001b[0m\u001b[1;33m\u001b[0m\u001b[1;33m\u001b[0m\u001b[1;33m\u001b[0m\u001b[0m\n\u001b[1;32m---> 12\u001b[1;33m \u001b[0mpredicts\u001b[0m\u001b[1;33m=\u001b[0m\u001b[0mtarget_scaled\u001b[0m\u001b[1;33m.\u001b[0m\u001b[0minverse_transform\u001b[0m\u001b[1;33m(\u001b[0m\u001b[0mpredicts_scaled\u001b[0m\u001b[1;33m)\u001b[0m\u001b[1;33m\u001b[0m\u001b[1;33m\u001b[0m\u001b[0m\n\u001b[0m",
      "\u001b[1;31mAttributeError\u001b[0m: 'numpy.ndarray' object has no attribute 'inverse_transform'"
     ]
    }
   ],
   "source": [
    "from sklearn.model_selection import cross_val_predict\n",
    "\n",
    "# Creamos el clasificador\n",
    "regul_param=0.1\n",
    "mlp = MLPRegressor(hidden_layer_sizes=(200, ), activation='relu', solver='adam', alpha=regul_param, batch_size=100, \n",
    "             learning_rate='constant', learning_rate_init=0.001, max_iter=500, random_state=RANDOM_STATE)\n",
    "    \n",
    "# estimamos \n",
    "predicts_scaled = cross_val_predict(mlp, desPisos_scaled, target_scaled.ravel(), cv=10)\n",
    "\n",
    "# desescalamos las predicciones para que estén en la escala original\n",
    "predicts=scaler_y.inverse_transform(predicts_scaled)"
   ]
  },
  {
   "cell_type": "code",
   "execution_count": 20,
   "metadata": {},
   "outputs": [
    {
     "data": {
      "text/plain": [
       "(14998,)"
      ]
     },
     "execution_count": 20,
     "metadata": {},
     "output_type": "execute_result"
    }
   ],
   "source": [
    "predicts_scaled.shape"
   ]
  },
  {
   "cell_type": "code",
   "execution_count": 29,
   "metadata": {},
   "outputs": [
    {
     "data": {
      "text/plain": [
       "(14998, 1)"
      ]
     },
     "execution_count": 29,
     "metadata": {},
     "output_type": "execute_result"
    }
   ],
   "source": [
    "target_scaled.shape"
   ]
  },
  {
   "cell_type": "code",
   "execution_count": 31,
   "metadata": {},
   "outputs": [
    {
     "data": {
      "text/plain": [
       "(14998,)"
      ]
     },
     "execution_count": 31,
     "metadata": {},
     "output_type": "execute_result"
    }
   ],
   "source": [
    "target_scaled.ravel().shape"
   ]
  },
  {
   "cell_type": "code",
   "execution_count": 26,
   "metadata": {},
   "outputs": [],
   "source": [
    "scaler_y_np = np.array(scaler_y)"
   ]
  },
  {
   "cell_type": "code",
   "execution_count": 27,
   "metadata": {},
   "outputs": [
    {
     "data": {
      "text/plain": [
       "()"
      ]
     },
     "execution_count": 27,
     "metadata": {},
     "output_type": "execute_result"
    }
   ],
   "source": [
    "scaler_y_np.shape"
   ]
  },
  {
   "cell_type": "code",
   "execution_count": null,
   "metadata": {},
   "outputs": [],
   "source": [
    "-----------------------------------------------------------------"
   ]
  },
  {
   "cell_type": "code",
   "execution_count": null,
   "metadata": {},
   "outputs": [],
   "source": [
    "np.shape(predicts)"
   ]
  },
  {
   "cell_type": "code",
   "execution_count": null,
   "metadata": {},
   "outputs": [],
   "source": [
    "target.to_numpy()"
   ]
  },
  {
   "cell_type": "code",
   "execution_count": null,
   "metadata": {},
   "outputs": [],
   "source": [
    "errors = np.abs(target.to_numpy() - predicts) # error en cada ejemplo\n",
    "mean_error = np.mean(errors)\n",
    "std_error = np.std(errors)\n",
    "mean_price = np.mean(target)\n",
    "\n",
    "print('Error medio:', mean_error)\n",
    "print('Desviación típica:', std_error)\n",
    "print('Error medio en %:', mean_error/mean_price*100)"
   ]
  },
  {
   "cell_type": "code",
   "execution_count": null,
   "metadata": {},
   "outputs": [],
   "source": [
    "# Dibujamos el histograma de los errores\n",
    "fig1 = plt.figure()\n",
    "ax1 = plt.axes()\n",
    "ax1.hist(errors)\n",
    "\n",
    "plt.title('Distribución del error en valor absoluto')\n",
    "plt.show()"
   ]
  },
  {
   "cell_type": "code",
   "execution_count": null,
   "metadata": {},
   "outputs": [],
   "source": [
    "target"
   ]
  },
  {
   "cell_type": "code",
   "execution_count": null,
   "metadata": {},
   "outputs": [],
   "source": [
    "fig2 = plt.figure()\n",
    "ax2 = plt.axes()\n",
    "\n",
    "# dibujamos los errores: la distancia a la recta indica el nivel de error\n",
    "ax2.scatter(target.to_numpy(), predicts) \n",
    "# Pintamos la referencia de la predicción perfecta\n",
    "ax2.plot(target.to_numpy(), target.to_numpy(), color='k') \n",
    "\n",
    "plt.title('Y Vs Y_pred')\n",
    "plt.show()"
   ]
  },
  {
   "cell_type": "code",
   "execution_count": null,
   "metadata": {},
   "outputs": [],
   "source": []
  }
 ],
 "metadata": {
  "kernelspec": {
   "display_name": "Python 3",
   "language": "python",
   "name": "python3"
  },
  "language_info": {
   "codemirror_mode": {
    "name": "ipython",
    "version": 3
   },
   "file_extension": ".py",
   "mimetype": "text/x-python",
   "name": "python",
   "nbconvert_exporter": "python",
   "pygments_lexer": "ipython3",
   "version": "3.8.3"
  }
 },
 "nbformat": 4,
 "nbformat_minor": 5
}
