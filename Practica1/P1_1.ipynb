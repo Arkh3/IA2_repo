{
 "cells": [
  {
   "cell_type": "markdown",
   "metadata": {},
   "source": [
    "__No te olvides de rellenar esto:__\n",
    "\n",
    "- Número de grupo: 18\n",
    "- Nombre de los integrantes del grupo: Hong Xiang Chen, Adrian Turiel Charro y Andrés Teruel Fernández"
   ]
  },
  {
   "cell_type": "markdown",
   "metadata": {
    "colab_type": "text",
    "id": "71I5krFqJpcc"
   },
   "source": [
    "# Práctica 1 \n",
    "\n",
    "> __Fecha de entrega: 11 de abril de 2021__\n",
    "\n",
    "## Parte 1: consultas SPARQL sobre Wikidata."
   ]
  },
  {
   "cell_type": "markdown",
   "metadata": {
    "colab_type": "text",
    "id": "cdP69_AXJpcg"
   },
   "source": [
    "En esta práctica vamos a usar el punto de acceso [SPARQL](https://query.wikidata.org/) de Wikidata para contestar las preguntas que se formulan a continuación. Cada pregunta debe ser respondida realizando una única consulta SPARQL. Para cada una de las entidades recuperadas se mostrará __tanto su identificador como su etiqueta__ (nombre de la entidad en lenguaje natural). \n",
    "\n",
    "Para cada una de las preguntas debes mostrar tanto la consulta como la respuesta obtenida.\n",
    "\n",
    " - La __consulta__ debe estar en una celda de tipo _Raw NBConvert_ para que jupyter no trate de interpretarla. Cada tripleta de la consulta debe tener un breve comentario a la derecha que la explique (los comentarios empiezan con #). \n",
    " - La __respuesta__ debe estar en una celda de tipo _Markdown_. Puedes descargar las respuestas usando la opción _Descargar >> HTML Table_ y copiar el código HTML en esta celda. Al ejecutar la celda se mostrará en forma de tabla.\n",
    " - Si lo consideras necesario, puedes añadir celdas adicionales en formato _Markdown_ para explicar decisiones que hayas tomado al crear la consulta o cualquier otro dato que consideres interesante.\n",
    " \n",
    " \n",
    "__Para resolver estas consultas necesitarás aprender algo más de SPARQL de lo que hemos contado en clase__. Los dos recursos que te recomendamos consultar son:\n",
    "\n",
    "- [Este tutorial de SPARQL](https://www.wikidata.org/wiki/Wikidata:SPARQL_tutorial).\n",
    "- [Esta recopilación de ejemplos](https://www.wikidata.org/wiki/Wikidata:SPARQL_query_service/queries/examples)"
   ]
  },
  {
   "cell_type": "markdown",
   "metadata": {},
   "source": [
    "### Ejemplo\n",
    "\n",
    "Recuperar todas las instancias directas de la clase [Cabra (Q2934)](https://www.wikidata.org/wiki/Q2934) que aparecen en la base de conocimiento."
   ]
  },
  {
   "cell_type": "raw",
   "metadata": {},
   "source": [
    "SELECT ?item ?itemLabel \n",
    "WHERE \n",
    "{\n",
    "  ?item wdt:P31 wd:Q2934.  # instancias directas de la clase Cabra\n",
    "  SERVICE wikibase:label { bd:serviceParam wikibase:language \"[AUTO_LANGUAGE],en\". }\n",
    "}"
   ]
  },
  {
   "cell_type": "markdown",
   "metadata": {},
   "source": [
    "<html><head><meta charset=\"utf-8\"></head><body><table><thead><tr><th>item</th><th>itemLabel</th></tr></thead><tbody><tr><td>http://www.wikidata.org/entity/Q151345</td><td>Billygoat Hennes</td></tr><tr><td>http://www.wikidata.org/entity/Q3569037</td><td>William Windsor</td></tr><tr><td>http://www.wikidata.org/entity/Q23003932</td><td>His Whiskers</td></tr><tr><td>http://www.wikidata.org/entity/Q24287064</td><td>Taffy</td></tr><tr><td>http://www.wikidata.org/entity/Q41239734</td><td>Lance Corporal Shenkin III</td></tr><tr><td>http://www.wikidata.org/entity/Q41240892</td><td>Lance Corporal Shenkin II</td></tr><tr><td>http://www.wikidata.org/entity/Q41241416</td><td>Lance Corporal Shenkin I</td></tr><tr><td>http://www.wikidata.org/entity/Q65326499</td><td>Konkan kanyal</td></tr></tbody></table></body></html>"
   ]
  },
  {
   "cell_type": "markdown",
   "metadata": {},
   "source": [
    "### Consulta 1\n",
    "\n",
    "[Steven Allan Spielberg (Q8877)](https://www.wikidata.org/wiki/Q8877) es uno de los directores más reconocidos y populares de la industria cinematográfica mundial. Vamos a comenzar por averiguar su fecha y lugar de nacimiento."
   ]
  },
  {
   "cell_type": "raw",
   "metadata": {},
   "source": [
    "SELECT DISTINCT ?date ?dateLabel ?bornPlace ?bornPlaceLabel\n",
    "WHERE\n",
    "{\n",
    "       wd:Q8877 wdt:P569  ?date.\n",
    "       wd:Q8877 wdt:P19 ?bornPlace .\n",
    "       SERVICE wikibase:label {bd:serviceParam wikibase:language \"[AUTO_LANGUAGE]\". }\n",
    "}"
   ]
  },
  {
   "cell_type": "markdown",
   "metadata": {},
   "source": [
    "<html><head><meta charset=\"utf-8\"></head><body><table><thead><tr><th>date</th><th>dateLabel</th><th>bornPlace</th><th>bornPlaceLabel</th></tr></thead><tbody><tr><td>1946-12-18T00:00:00Z</td><td>1946-12-18T00:00:00Z</td><td>http://www.wikidata.org/entity/Q43196</td><td>Cincinnati</td></tr></tbody></table></body></html>"
   ]
  },
  {
   "cell_type": "markdown",
   "metadata": {},
   "source": [
    "* #### Comentarios:\n",
    "\n",
    "La diferencia con la consulta de las cabras es que tenemos que darle la vuelta a la tripleta ya que es la instancia de Steven Spilberg la que apunta a su fecha y lugar de nacimiento y no al contrario (no tendría sentido que cada fecha apuntara a todas las personas que han nacido en ese año).\n",
    "\n",
    "----------------------------------------------------------------------"
   ]
  },
  {
   "cell_type": "markdown",
   "metadata": {},
   "source": [
    "### Consulta 2\n",
    "\n",
    "A continuación vamos a averiguar todas las distintas profesiones (ocupaciones) que se le reconocen en la base de conocimiento. Queremos obtener los resultados ordenados alfabéticamente por el nombre de la profesión."
   ]
  },
  {
   "cell_type": "raw",
   "metadata": {},
   "source": [
    "SELECT ?profesion ?profesionLabel \n",
    "WHERE \n",
    "{\n",
    "  wd:Q8877 wdt:P106 ?profesion.\n",
    "  SERVICE wikibase:label { bd:serviceParam wikibase:language \"[AUTO_LANGUAGE],en\". }\n",
    "}\n",
    "ORDER BY (?profesionLabel)"
   ]
  },
  {
   "cell_type": "markdown",
   "metadata": {},
   "source": [
    "<html><head><meta charset=\"utf-8\"></head><body><table><thead><tr><th>profesion</th><th>profesionLabel</th></tr></thead><tbody><tr><td>http://www.wikidata.org/entity/Q33999</td><td>actor</td></tr><tr><td>http://www.wikidata.org/entity/Q10732476</td><td>art collector</td></tr><tr><td>http://www.wikidata.org/entity/Q43845</td><td>businessperson</td></tr><tr><td>http://www.wikidata.org/entity/Q1053574</td><td>executive producer</td></tr><tr><td>http://www.wikidata.org/entity/Q10800557</td><td>film actor</td></tr><tr><td>http://www.wikidata.org/entity/Q2526255</td><td>film director</td></tr><tr><td>http://www.wikidata.org/entity/Q7042855</td><td>film editor</td></tr><tr><td>http://www.wikidata.org/entity/Q3282637</td><td>film producer</td></tr><tr><td>http://www.wikidata.org/entity/Q18844224</td><td>science fiction writer</td></tr><tr><td>http://www.wikidata.org/entity/Q28389</td><td>screenwriter</td></tr><tr><td>http://www.wikidata.org/entity/Q578109</td><td>television producer</td></tr></tbody></table></body></html>"
   ]
  },
  {
   "cell_type": "markdown",
   "metadata": {},
   "source": [
    "* #### Comentarios:\n",
    "\n",
    "Esta consulta no tiene mucha complejidad con respecto a la anterior, la única novedad es que debemos añadir la directiva \"ORDER BY\" para que nos ordene alfabeticamente las profesiones (por defecto ORDER BY es ascendente por lo que no debemos hacer nada más).\n",
    "\n",
    "También hay que recalcar que lo que tenemos que ordenar alfabeticamente son las etiquetas (profesionLabel).\n",
    "\n",
    "----------------------------------------------------------------------"
   ]
  },
  {
   "cell_type": "markdown",
   "metadata": {},
   "source": [
    "### Consulta 3\n",
    "\n",
    "¿Cuales de esas profesiones corresponden a un tipo determinado de [Artista (Q483501)](https://www.wikidata.org/wiki/Q483501)? Ten en cuenta que la jerarquía de tipos de artistas puede ser compleja."
   ]
  },
  {
   "cell_type": "raw",
   "metadata": {},
   "source": [
    "SELECT ?profesion ?profesionLabel \n",
    "WHERE \n",
    "{\n",
    "  wd:Q8877 wdt:P106 ?profesion.\n",
    "  ?profesion wdt:P279/wdt:P279* wd:Q483501.\n",
    "  SERVICE wikibase:label { bd:serviceParam wikibase:language \"[AUTO_LANGUAGE],en\". }\n",
    "}"
   ]
  },
  {
   "cell_type": "markdown",
   "metadata": {},
   "source": [
    "<html><head><meta charset=\"utf-8\"></head><body><table><thead><tr><th>profesion</th><th>profesionLabel</th></tr></thead><tbody><tr><td>http://www.wikidata.org/entity/Q2526255</td><td>director de cine</td></tr><tr><td>http://www.wikidata.org/entity/Q7042855</td><td>editor de cine</td></tr><tr><td>http://www.wikidata.org/entity/Q33999</td><td>actor</td></tr><tr><td>http://www.wikidata.org/entity/Q10800557</td><td>actor de cine</td></tr></tbody></table></body></html>"
   ]
  },
  {
   "cell_type": "markdown",
   "metadata": {},
   "source": [
    "* #### Comentarios:\n",
    "\n",
    "Como puede haber varias relaciones de \"subclase_de\" (P279) entre una profesión y el tipo Artista, la notación \"wdt:P279/wdt:P279*\" nos permite encontrar toda profesión que está relacionada con Artista por una secuencia de varias \"subclase_de\".\n",
    "\n",
    "----------------------------------------------------------------------"
   ]
  },
  {
   "cell_type": "markdown",
   "metadata": {},
   "source": [
    "### Consulta 4\n",
    "\n",
    "Spielberg ha recibido muchas nominaciones y premios a lo largo de su carrera. Queremos obtener una lista de nominaciones y para cada una de ellas el trabajo por el cual fue nominado y la ceremonia en la que se produjo la nominación. Para resolver esta consulta necesitarás acceder a los cualificadores de nodos sentencia y necesitarás entender los prefijos que usa Wikidata."
   ]
  },
  {
   "cell_type": "raw",
   "metadata": {},
   "source": [
    "SELECT ?nomination ?nominationLabel ?work ?workLabel ?ceremony ?ceremonyLabel\n",
    "WHERE\n",
    "{\n",
    "  wd:Q8877 p:P1411 ?statement1.\n",
    "  ?statement1 ps:P1411 ?nomination.\n",
    "  ?statement1 pq:P1686 ?work.\n",
    "  ?statement1 pq:P805 ?ceremony.\n",
    "  SERVICE wikibase:label { bd:serviceParam wikibase:language \"[AUTO_LANGUAGE]\". }\n",
    "}"
   ]
  },
  {
   "cell_type": "markdown",
   "metadata": {},
   "source": [
    "<html><head><meta charset=\"utf-8\"></head><body><table><thead><tr><th>nomination</th><th>nominationLabel</th><th>work</th><th>workLabel</th><th>ceremony</th><th>ceremonyLabel</th></tr></thead><tbody><tr><td>http://www.wikidata.org/entity/Q102427</td><td>Óscar a la mejor película</td><td>http://www.wikidata.org/entity/Q152456</td><td>Múnich</td><td>http://www.wikidata.org/entity/Q319132</td><td>Premios Óscar de 2005</td></tr><tr><td>http://www.wikidata.org/entity/Q1377772</td><td>Q1377772</td><td>http://www.wikidata.org/entity/Q165817</td><td>Saving Private Ryan</td><td>http://www.wikidata.org/entity/Q2405223</td><td>Q2405223</td></tr><tr><td>http://www.wikidata.org/entity/Q102427</td><td>Óscar a la mejor película</td><td>http://www.wikidata.org/entity/Q483941</td><td>La lista de Schindler</td><td>http://www.wikidata.org/entity/Q944352</td><td>Premios Óscar de 1993</td></tr><tr><td>http://www.wikidata.org/entity/Q103360</td><td>Óscar al mejor director</td><td>http://www.wikidata.org/entity/Q11621</td><td>E.T., el extraterrestre</td><td>http://www.wikidata.org/entity/Q41918</td><td>Anexo:55.º Premios Óscar</td></tr><tr><td>http://www.wikidata.org/entity/Q102427</td><td>Óscar a la mejor película</td><td>http://www.wikidata.org/entity/Q275187</td><td>Cartas desde Iwo Jima</td><td>http://www.wikidata.org/entity/Q213699</td><td>Premios Óscar de 2006</td></tr><tr><td>http://www.wikidata.org/entity/Q1377772</td><td>Q1377772</td><td>http://www.wikidata.org/entity/Q244604</td><td>Minority Report</td><td>http://www.wikidata.org/entity/Q585310</td><td>Q585310</td></tr><tr><td>http://www.wikidata.org/entity/Q103360</td><td>Óscar al mejor director</td><td>http://www.wikidata.org/entity/Q152456</td><td>Múnich</td><td>http://www.wikidata.org/entity/Q319132</td><td>Premios Óscar de 2005</td></tr><tr><td>http://www.wikidata.org/entity/Q102427</td><td>Óscar a la mejor película</td><td>http://www.wikidata.org/entity/Q165817</td><td>Saving Private Ryan</td><td>http://www.wikidata.org/entity/Q263239</td><td>71.º Premios Óscar</td></tr><tr><td>http://www.wikidata.org/entity/Q103360</td><td>Óscar al mejor director</td><td>http://www.wikidata.org/entity/Q32433</td><td>Lincoln</td><td>http://www.wikidata.org/entity/Q248688</td><td>85.º Premios Óscar</td></tr><tr><td>http://www.wikidata.org/entity/Q102427</td><td>Óscar a la mejor película</td><td>http://www.wikidata.org/entity/Q11621</td><td>E.T., el extraterrestre</td><td>http://www.wikidata.org/entity/Q41918</td><td>Anexo:55.º Premios Óscar</td></tr><tr><td>http://www.wikidata.org/entity/Q102427</td><td>Óscar a la mejor película</td><td>http://www.wikidata.org/entity/Q218589</td><td>War Horse</td><td>http://www.wikidata.org/entity/Q180675</td><td>Premios Óscar de 2011</td></tr><tr><td>http://www.wikidata.org/entity/Q102427</td><td>Óscar a la mejor película</td><td>http://www.wikidata.org/entity/Q18067135</td><td>Bridge of Spies</td><td>http://www.wikidata.org/entity/Q20022969</td><td>Anexo:88.ª Premios Óscar</td></tr><tr><td>http://www.wikidata.org/entity/Q103360</td><td>Óscar al mejor director</td><td>http://www.wikidata.org/entity/Q174284</td><td>Raiders of the Lost Ark</td><td>http://www.wikidata.org/entity/Q28969</td><td>Anexo:Premios Óscar de 1981</td></tr><tr><td>http://www.wikidata.org/entity/Q103360</td><td>Óscar al mejor director</td><td>http://www.wikidata.org/entity/Q483941</td><td>La lista de Schindler</td><td>http://www.wikidata.org/entity/Q944352</td><td>Premios Óscar de 1993</td></tr><tr><td>http://www.wikidata.org/entity/Q103360</td><td>Óscar al mejor director</td><td>http://www.wikidata.org/entity/Q320588</td><td>Close Encounters of the Third Kind</td><td>http://www.wikidata.org/entity/Q282159</td><td>Anexo:Premios Óscar de 1977</td></tr><tr><td>http://www.wikidata.org/entity/Q102427</td><td>Óscar a la mejor película</td><td>http://www.wikidata.org/entity/Q32433</td><td>Lincoln</td><td>http://www.wikidata.org/entity/Q248688</td><td>85.º Premios Óscar</td></tr><tr><td>http://www.wikidata.org/entity/Q102427</td><td>Óscar a la mejor película</td><td>http://www.wikidata.org/entity/Q30203425</td><td>The Post</td><td>http://www.wikidata.org/entity/Q24636843</td><td>90.º Premios Óscar</td></tr><tr><td>http://www.wikidata.org/entity/Q102427</td><td>Óscar a la mejor película</td><td>http://www.wikidata.org/entity/Q223299</td><td>El color púrpura</td><td>http://www.wikidata.org/entity/Q938235</td><td>Premios Óscar de 1985</td></tr><tr><td>http://www.wikidata.org/entity/Q103360</td><td>Óscar al mejor director</td><td>http://www.wikidata.org/entity/Q165817</td><td>Saving Private Ryan</td><td>http://www.wikidata.org/entity/Q263239</td><td>71.º Premios Óscar</td></tr></tbody></table></body></html>"
   ]
  },
  {
   "cell_type": "markdown",
   "metadata": {},
   "source": [
    "* #### Comentarios:\n",
    "\n",
    "Sustituyendo el prefijo 'wdt:' que usábamos en otras consultas por el prefijo 'p:' conseguimos al \"statement node\" (en vez de los objetos en sí) a partir del cual podemos acceder a los cualificadores mediante el prefijo 'pq:' y a los objetos contenidos en el nodo mediante el prefijo 'ps:'.\n",
    "\n",
    "----------------------------------------------------------------------"
   ]
  },
  {
   "cell_type": "markdown",
   "metadata": {},
   "source": [
    "### Consulta 5\n",
    "\n",
    "Ahora queremos conocer el título de todas las películas que Spielberg ha dirigido. Se mostrarán ordenadas alfabéticamente y debes tener cuidado de no mostrar resultados repetidos. Ten en cuenta que puede haber distintos tipos de películas."
   ]
  },
  {
   "cell_type": "raw",
   "metadata": {},
   "source": [
    "SELECT DISTINCT ?movie ?movieLabel \n",
    "WHERE\n",
    "{\n",
    "  ?movie wdt:P57 wd:Q8877.\n",
    "  SERVICE wikibase:label { bd:serviceParam wikibase:language \"[AUTO_LANGUAGE]\". }\n",
    "}"
   ]
  },
  {
   "cell_type": "markdown",
   "metadata": {},
   "source": [
    "<html><head><meta charset=\"utf-8\"></head><body><table><thead><tr><th>movie</th><th>movieLabel</th></tr></thead><tbody><tr><td>http://www.wikidata.org/entity/Q3057871</td><td>Escape to Nowhere</td></tr><tr><td>http://www.wikidata.org/entity/Q6166233</td><td>Jaws</td></tr><tr><td>http://www.wikidata.org/entity/Q18276472</td><td>Jurassic Park 3D</td></tr><tr><td>http://www.wikidata.org/entity/Q6456192</td><td>L.A. 2017</td></tr><tr><td>http://www.wikidata.org/entity/Q7540939</td><td>Slipstream</td></tr><tr><td>http://www.wikidata.org/entity/Q3988876</td><td>The Psychiatrist</td></tr><tr><td>http://www.wikidata.org/entity/Q11791805</td><td>The Unfinished Journey</td></tr><tr><td>http://www.wikidata.org/entity/Q2956251</td><td>Watch Dog</td></tr><tr><td>http://www.wikidata.org/entity/Q207482</td><td>1941</td></tr><tr><td>http://www.wikidata.org/entity/Q449743</td><td>Always</td></tr><tr><td>http://www.wikidata.org/entity/Q457886</td><td>Amblin'</td></tr><tr><td>http://www.wikidata.org/entity/Q472361</td><td>Amistad</td></tr><tr><td>http://www.wikidata.org/entity/Q208108</td><td>Atrápame si puedes</td></tr><tr><td>http://www.wikidata.org/entity/Q18067135</td><td>Bridge of Spies</td></tr><tr><td>http://www.wikidata.org/entity/Q320588</td><td>Close Encounters of the Third Kind</td></tr><tr><td>http://www.wikidata.org/entity/Q940102</td><td>Cuentos asombrosos</td></tr><tr><td>http://www.wikidata.org/entity/Q583407</td><td>Duel</td></tr><tr><td>http://www.wikidata.org/entity/Q11621</td><td>E.T., el extraterrestre</td></tr><tr><td>http://www.wikidata.org/entity/Q223299</td><td>El color púrpura</td></tr><tr><td>http://www.wikidata.org/entity/Q271281</td><td>El imperio del sol</td></tr><tr><td>http://www.wikidata.org/entity/Q591320</td><td>Firelight</td></tr><tr><td>http://www.wikidata.org/entity/Q4468634</td><td>Homicidio de acuerdo con el libro</td></tr><tr><td>http://www.wikidata.org/entity/Q646389</td><td>Hook</td></tr><tr><td>http://www.wikidata.org/entity/Q148659</td><td>Indiana Jones</td></tr><tr><td>http://www.wikidata.org/entity/Q179215</td><td>Indiana Jones and the Temple of Doom</td></tr><tr><td>http://www.wikidata.org/entity/Q182373</td><td>Indiana Jones y el reino de la calavera de cristal</td></tr><tr><td>http://www.wikidata.org/entity/Q185658</td><td>Indiana Jones y la última cruzada</td></tr><tr><td>http://www.wikidata.org/entity/Q221113</td><td>Inteligencia artificial</td></tr><tr><td>http://www.wikidata.org/entity/Q483941</td><td>La lista de Schindler</td></tr><tr><td>http://www.wikidata.org/entity/Q318766</td><td>La terminal</td></tr><tr><td>http://www.wikidata.org/entity/Q980041</td><td>Las aventuras de Tintín</td></tr><tr><td>http://www.wikidata.org/entity/Q32433</td><td>Lincoln</td></tr><tr><td>http://www.wikidata.org/entity/Q244604</td><td>Minority Report</td></tr><tr><td>http://www.wikidata.org/entity/Q152456</td><td>Múnich</td></tr><tr><td>http://www.wikidata.org/entity/Q167726</td><td>Parque Jurásico</td></tr><tr><td>http://www.wikidata.org/entity/Q174284</td><td>Raiders of the Lost Ark</td></tr><tr><td>http://www.wikidata.org/entity/Q22000542</td><td>Ready Player One</td></tr><tr><td>http://www.wikidata.org/entity/Q165817</td><td>Saving Private Ryan</td></tr><tr><td>http://www.wikidata.org/entity/Q167022</td><td>Something Evil</td></tr><tr><td>http://www.wikidata.org/entity/Q19689203</td><td>The BFG</td></tr><tr><td>http://www.wikidata.org/entity/Q200873</td><td>The Lost World: Jurassic Park</td></tr><tr><td>http://www.wikidata.org/entity/Q30203425</td><td>The Post</td></tr><tr><td>http://www.wikidata.org/entity/Q432526</td><td>The Sugarland Express</td></tr><tr><td>http://www.wikidata.org/entity/Q189505</td><td>Tiburón</td></tr><tr><td>http://www.wikidata.org/entity/Q3539208</td><td>Trilogía Tintín</td></tr><tr><td>http://www.wikidata.org/entity/Q1330737</td><td>Twilight Zone: The Movie</td></tr><tr><td>http://www.wikidata.org/entity/Q218589</td><td>War Horse</td></tr><tr><td>http://www.wikidata.org/entity/Q202028</td><td>War of the Worlds</td></tr><tr><td>http://www.wikidata.org/entity/Q63643994</td><td>West Side Story</td></tr></tbody></table></body></html>"
   ]
  },
  {
   "cell_type": "markdown",
   "metadata": {},
   "source": [
    "* #### Comentarios:\n",
    "\n",
    "TODO Preguntar al profer, que quiere decir con lo de \"Ten en cuenta que puede haber distintos tipos de películas\"\n",
    "TODO preguntarle al profe esto: que si solo quería que pusiéramos el DISTINCT o lo decia por otra cosa\n",
    "\n",
    "Es una consulta relativamente sencilla y muy similar a las anteriores. Para asegurarnos de que no se imprimen repetidos usamos la cláusula DISTINCT.\n",
    "\n",
    "----------------------------------------------------------------------"
   ]
  },
  {
   "cell_type": "markdown",
   "metadata": {},
   "source": [
    "### Consulta 6\n",
    "\n",
    "Spielberg es sin duda un director prolífico. ¿Exactamente cuántas películas de ciencia ficción ha dirigido?"
   ]
  },
  {
   "cell_type": "raw",
   "metadata": {},
   "source": [
    "SELECT (COUNT(*) AS ?count)\n",
    "WHERE\n",
    "{\n",
    "  ?movie wdt:P57 wd:Q8877;\n",
    "        wdt:P136 wd:Q471839.\n",
    "}"
   ]
  },
  {
   "cell_type": "markdown",
   "metadata": {},
   "source": [
    "<html><head><meta charset=\"utf-8\"></head><body><table><thead><tr><th>count</th></tr></thead><tbody><tr><td>10</td></tr></tbody></table></body></html>"
   ]
  },
  {
   "cell_type": "markdown",
   "metadata": {},
   "source": [
    "* #### Comentarios:\n",
    "\n",
    "Utilizamos un ; que nos permite omitir el sujeto de la tripleta siguiente ya que se reutiliza de la anterior. También hacemos uso de COUNT (\\*) de la misma forma que se utiliza en SQL para contar las columnas generadas por la query.\n",
    "\n",
    "----------------------------------------------------------------------"
   ]
  },
  {
   "cell_type": "markdown",
   "metadata": {},
   "source": [
    "### Consulta 7\n",
    "\n",
    "Es importante que las películas tengan una duración adecuada, ni muy cortas ni demasiado largas. De todas las películas que ha dirigido Spielberg, ¿cuales duran entre 90 y 150 minutos? Para cada película muestra el título y la duración. Los resultados se deben mostrar ordenados alfabéticamente."
   ]
  },
  {
   "cell_type": "raw",
   "metadata": {},
   "source": [
    "SELECT ?movie ?movieLabel ?time\n",
    "WHERE\n",
    "{\n",
    "  ?movie wdt:P57 wd:Q8877;\n",
    "         wdt:P2047 ?time .\n",
    "  FILTER(?time>90 && ?time<150) .\n",
    "  SERVICE wikibase:label { bd:serviceParam wikibase:language \"en\". }\n",
    "}\n",
    "ORDER BY (?movieLabel)"
   ]
  },
  {
   "cell_type": "markdown",
   "metadata": {},
   "source": [
    "<html><head><meta charset=\"utf-8\"></head><body><table><thead><tr><th>movie</th><th>movieLabel</th><th>time</th></tr></thead><tbody><tr><td>http://www.wikidata.org/entity/Q207482</td><td>1941</td><td>113</td></tr><tr><td>http://www.wikidata.org/entity/Q221113</td><td>A.I. Artificial Intelligence</td><td>146</td></tr><tr><td>http://www.wikidata.org/entity/Q449743</td><td>Always</td><td>117</td></tr><tr><td>http://www.wikidata.org/entity/Q18067135</td><td>Bridge of Spies</td><td>142</td></tr><tr><td>http://www.wikidata.org/entity/Q208108</td><td>Catch Me If You Can</td><td>135</td></tr><tr><td>http://www.wikidata.org/entity/Q320588</td><td>Close Encounters of the Third Kind</td><td>134</td></tr><tr><td>http://www.wikidata.org/entity/Q11621</td><td>E.T. the Extra-Terrestrial</td><td>115</td></tr><tr><td>http://www.wikidata.org/entity/Q591320</td><td>Firelight</td><td>135</td></tr><tr><td>http://www.wikidata.org/entity/Q646389</td><td>Hook</td><td>136</td></tr><tr><td>http://www.wikidata.org/entity/Q182373</td><td>Indiana Jones and the Kingdom of the Crystal Skull</td><td>123</td></tr><tr><td>http://www.wikidata.org/entity/Q185658</td><td>Indiana Jones and the Last Crusade</td><td>122</td></tr><tr><td>http://www.wikidata.org/entity/Q179215</td><td>Indiana Jones and the Temple of Doom</td><td>114</td></tr><tr><td>http://www.wikidata.org/entity/Q189505</td><td>Jaws</td><td>124</td></tr><tr><td>http://www.wikidata.org/entity/Q167726</td><td>Jurassic Park</td><td>123</td></tr><tr><td>http://www.wikidata.org/entity/Q18276472</td><td>Jurassic Park 3D</td><td>126</td></tr><tr><td>http://www.wikidata.org/entity/Q244604</td><td>Minority Report</td><td>145</td></tr><tr><td>http://www.wikidata.org/entity/Q174284</td><td>Raiders of the Lost Ark</td><td>111</td></tr><tr><td>http://www.wikidata.org/entity/Q22000542</td><td>Ready Player One</td><td>140</td></tr><tr><td>http://www.wikidata.org/entity/Q980041</td><td>The Adventures of Tintin</td><td>107</td></tr><tr><td>http://www.wikidata.org/entity/Q19689203</td><td>The BFG</td><td>115</td></tr><tr><td>http://www.wikidata.org/entity/Q200873</td><td>The Lost World: Jurassic Park</td><td>129</td></tr><tr><td>http://www.wikidata.org/entity/Q30203425</td><td>The Post</td><td>115</td></tr><tr><td>http://www.wikidata.org/entity/Q432526</td><td>The Sugarland Express</td><td>106</td></tr><tr><td>http://www.wikidata.org/entity/Q318766</td><td>The Terminal</td><td>124</td></tr><tr><td>http://www.wikidata.org/entity/Q1330737</td><td>Twilight Zone: The Movie</td><td>101</td></tr><tr><td>http://www.wikidata.org/entity/Q218589</td><td>War Horse</td><td>146</td></tr><tr><td>http://www.wikidata.org/entity/Q202028</td><td>War of the Worlds</td><td>116</td></tr></tbody></table></body></html>"
   ]
  },
  {
   "cell_type": "markdown",
   "metadata": {},
   "source": [
    "* #### Comentarios:\n",
    "\n",
    "La función FILTER nos permite, según indica su nombre, hacer filtrados respecto a las filas generadas por la query. \n",
    "\n",
    "----------------------------------------------------------------------"
   ]
  },
  {
   "cell_type": "markdown",
   "metadata": {},
   "source": [
    "### Consulta 8\n",
    "\n",
    "Vamos a recuperar ahora las películas más actuales que ha dirigido Spielberg. Estamos interesados específicamente en películas que se hayan estrenado a partir del año 2000.\n",
    "\n",
    "Seguramente, en tu primer intento verás que cada película aparece repetida varias veces con fechas distintas porque Wikidata contiene las fechas de estreno en cada país. Vamos a considerar que la fecha real de estreno de la película es la fecha más antigua de todas ellas.\n",
    "\n",
    "Para que cada película aparezca sólo una vez con la fecha correcta necesitarás agrupar las respuestas por película y título, y aplicar una función de agregación sobre las fechas de publicación. Los resultados se tienen que mostrar ordenados alfabéticamente."
   ]
  },
  {
   "cell_type": "raw",
   "metadata": {},
   "source": [
    "SELECT ?movie ?movieLabel (MIN(?date) AS ?minDate) #?date\n",
    "WHERE\n",
    "{\n",
    "  ?movie wdt:P57 wd:Q8877;\n",
    "         wdt:P577 ?date .\n",
    "  SERVICE wikibase:label { bd:serviceParam wikibase:language \"en\". }\n",
    "}\n",
    "GROUP BY ?movie ?movieLabel\n",
    "HAVING (MIN(?date)>=\"2000-01-01T00:00:00Z\"^^xsd:dateTime)\n",
    "ORDER BY (?movieLabel)"
   ]
  },
  {
   "cell_type": "markdown",
   "metadata": {},
   "source": [
    "<html><head><meta charset=\"utf-8\"></head><body><table><thead><tr><th>movie</th><th>movieLabel</th><th>minDate</th></tr></thead><tbody><tr><td>http://www.wikidata.org/entity/Q221113</td><td>A.I. Artificial Intelligence</td><td>2001-06-29T00:00:00Z</td></tr><tr><td>http://www.wikidata.org/entity/Q18067135</td><td>Bridge of Spies</td><td>2015-10-16T00:00:00Z</td></tr><tr><td>http://www.wikidata.org/entity/Q208108</td><td>Catch Me If You Can</td><td>2002-12-16T00:00:00Z</td></tr><tr><td>http://www.wikidata.org/entity/Q182373</td><td>Indiana Jones and the Kingdom of the Crystal Skull</td><td>2008-05-21T00:00:00Z</td></tr><tr><td>http://www.wikidata.org/entity/Q18276472</td><td>Jurassic Park 3D</td><td>2013-01-01T00:00:00Z</td></tr><tr><td>http://www.wikidata.org/entity/Q32433</td><td>Lincoln</td><td>2012-10-08T00:00:00Z</td></tr><tr><td>http://www.wikidata.org/entity/Q244604</td><td>Minority Report</td><td>2002-06-17T00:00:00Z</td></tr><tr><td>http://www.wikidata.org/entity/Q152456</td><td>Munich</td><td>2005-01-01T00:00:00Z</td></tr><tr><td>http://www.wikidata.org/entity/Q22000542</td><td>Ready Player One</td><td>2018-03-11T00:00:00Z</td></tr><tr><td>http://www.wikidata.org/entity/Q980041</td><td>The Adventures of Tintin</td><td>2011-01-01T00:00:00Z</td></tr><tr><td>http://www.wikidata.org/entity/Q19689203</td><td>The BFG</td><td>2016-07-01T00:00:00Z</td></tr><tr><td>http://www.wikidata.org/entity/Q30203425</td><td>The Post</td><td>2017-01-01T00:00:00Z</td></tr><tr><td>http://www.wikidata.org/entity/Q318766</td><td>The Terminal</td><td>2004-01-01T00:00:00Z</td></tr><tr><td>http://www.wikidata.org/entity/Q218589</td><td>War Horse</td><td>2011-01-01T00:00:00Z</td></tr><tr><td>http://www.wikidata.org/entity/Q202028</td><td>War of the Worlds</td><td>2005-06-29T00:00:00Z</td></tr><tr><td>http://www.wikidata.org/entity/Q63643994</td><td>West Side Story</td><td>2021-01-01T00:00:00Z</td></tr></tbody></table></body></html>"
   ]
  },
  {
   "cell_type": "markdown",
   "metadata": {},
   "source": [
    "* #### Comentarios:\n",
    "\n",
    "Hablar de esto: \n",
    "group by\n",
    "having\n",
    "min\n",
    "date system\n",
    "\n",
    "----------------------------------------------------------------------"
   ]
  },
  {
   "cell_type": "markdown",
   "metadata": {},
   "source": [
    "### Consulta 9\n",
    "\n",
    "¿Qué actores han trabajado en películas dirigidas por Spielberg? Para cada uno de ellos muestra su nombre y, si está disponible, su fecha de nacimiento y defunción. Los resultados deben aparecer ordenados alfabéticamente.\n",
    "\n",
    "Como en las películas trabajan muchos actores sólo estamos interesados en los primeros 50 resultados."
   ]
  },
  {
   "cell_type": "raw",
   "metadata": {},
   "source": [
    "SELECT DISTINCT ?actor ?actorLabel ?dateOfBirthLabel ?dateOfDeathLabel ?disponibilidad\n",
    "WHERE\n",
    "{\n",
    "  ?movie wdt:P57 wd:Q8877;\n",
    "         wdt:P161 ?actor.\n",
    "  ?actor wdt:P569 ?dateOfBirth.\n",
    "  OPTIONAL{?actor wdt:P570 ?dateOfDeath.}     \n",
    "  OPTIONAL{?actor wdt:P2032 ?endWorkPeriod.}\n",
    "  SERVICE wikibase:label { bd:serviceParam wikibase:language \"[AUTO_LANGUAGE]\". }\n",
    "  BIND(IF(BOUND(?endWorkPeriod) || BOUND(?dateOfDeath), 'no', 'yes') AS ?disponibilidad).\n",
    "}\n",
    "ORDER BY ?actorLabel"
   ]
  },
  {
   "cell_type": "markdown",
   "metadata": {},
   "source": []
  },
  {
   "cell_type": "markdown",
   "metadata": {},
   "source": [
    "* #### Comentarios:\n",
    "\n",
    "----------------------------------------------------------------------"
   ]
  },
  {
   "cell_type": "markdown",
   "metadata": {},
   "source": [
    "### Consulta 10\n",
    "\n",
    "¿Cuántos asertos hay sobre Zimmer en Wikidata? Ten en cuenta que Zimmer puede aparece tanto como sujeto como objeto de cada tripleta."
   ]
  },
  {
   "cell_type": "raw",
   "metadata": {},
   "source": []
  },
  {
   "cell_type": "markdown",
   "metadata": {},
   "source": []
  },
  {
   "cell_type": "markdown",
   "metadata": {},
   "source": [
    "__Fecha de las consultas: RELLENAR__"
   ]
  }
 ],
 "metadata": {
  "colab": {
   "name": "Práctica3_solucion.ipynb",
   "provenance": []
  },
  "kernelspec": {
   "display_name": "Python 3",
   "language": "python",
   "name": "python3"
  },
  "language_info": {
   "codemirror_mode": {
    "name": "ipython",
    "version": 3
   },
   "file_extension": ".py",
   "mimetype": "text/x-python",
   "name": "python",
   "nbconvert_exporter": "python",
   "pygments_lexer": "ipython3",
   "version": "3.8.3"
  }
 },
 "nbformat": 4,
 "nbformat_minor": 1
}
